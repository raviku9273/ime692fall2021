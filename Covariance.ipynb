{
 "cells": [
  {
   "cell_type": "code",
   "execution_count": 1,
   "metadata": {},
   "outputs": [],
   "source": [
    "import numpy as np\n",
    "from sklearn.covariance import EmpiricalCovariance"
   ]
  },
  {
   "cell_type": "code",
   "execution_count": 2,
   "metadata": {},
   "outputs": [
    {
     "name": "stdout",
     "output_type": "stream",
     "text": [
      "(200, 6)\n"
     ]
    }
   ],
   "source": [
    "# read a file and convert it into array with shape (n_sample, n_features)\n",
    "# dataset is available at https://github.com/QuantLet/MVA/tree/master/QID-945-MVApcabank\n",
    "path = 'F:/fall-21/ime692/l1/bank2.txt'\n",
    "data = np.loadtxt(path)\n",
    "print(data.shape) # dimension of the dataset"
   ]
  },
  {
   "cell_type": "code",
   "execution_count": 4,
   "metadata": {},
   "outputs": [],
   "source": [
    "data[:5,] # first five rows\n",
    "#copy first 100 rows -genuine, remaining -counterfeit\n",
    "fake = np.copy(data) # because modified and original array share memory block\n",
    "fake1 = fake[100:,]\n"
   ]
  },
  {
   "cell_type": "code",
   "execution_count": 5,
   "metadata": {},
   "outputs": [
    {
     "name": "stdout",
     "output_type": "stream",
     "text": [
      "(100, 6)\n"
     ]
    },
    {
     "data": {
      "text/plain": [
       "array([[214.4, 130.1, 130.3,   9.7,  11.7, 139.8],\n",
       "       [214.9, 130.5, 130.2,  11. ,  11.5, 139.5],\n",
       "       [214.9, 130.3, 130.1,   8.7,  11.7, 140.2],\n",
       "       [215. , 130.4, 130.6,   9.9,  10.9, 140.3],\n",
       "       [214.7, 130.2, 130.3,  11.8,  10.9, 139.7]])"
      ]
     },
     "execution_count": 5,
     "metadata": {},
     "output_type": "execute_result"
    }
   ],
   "source": [
    "print(fake1.shape)\n",
    "fake1[:5,]"
   ]
  },
  {
   "cell_type": "code",
   "execution_count": 6,
   "metadata": {},
   "outputs": [
    {
     "name": "stdout",
     "output_type": "stream",
     "text": [
      "(100, 6)\n"
     ]
    },
    {
     "data": {
      "text/plain": [
       "array([[215.6, 129.9, 129.9,   9. ,   9.5, 141.7],\n",
       "       [215. , 130.4, 130.3,   9.1,  10.2, 141.1],\n",
       "       [214.4, 129.7, 129.5,   8. ,  10.3, 141.2],\n",
       "       [215.1, 130. , 129.8,   9.1,  10.2, 141.5],\n",
       "       [214.7, 130. , 129.4,   7.8,  10. , 141.2]])"
      ]
     },
     "execution_count": 6,
     "metadata": {},
     "output_type": "execute_result"
    }
   ],
   "source": [
    "genuine = data[:100,]\n",
    "print(genuine.shape)\n",
    "genuine[95:,]"
   ]
  },
  {
   "cell_type": "code",
   "execution_count": 8,
   "metadata": {},
   "outputs": [],
   "source": [
    "covf = EmpiricalCovariance().fit(fake1)"
   ]
  },
  {
   "cell_type": "code",
   "execution_count": 9,
   "metadata": {},
   "outputs": [],
   "source": [
    "covg = EmpiricalCovariance().fit(genuine)\n",
    "covf1 = np.round(covf.covariance_, decimals=3)\n",
    "covg1 = np.round(covg.covariance_, decimals=3)"
   ]
  },
  {
   "cell_type": "code",
   "execution_count": 10,
   "metadata": {},
   "outputs": [
    {
     "data": {
      "text/html": [
       "<div>\n",
       "<style scoped>\n",
       "    .dataframe tbody tr th:only-of-type {\n",
       "        vertical-align: middle;\n",
       "    }\n",
       "\n",
       "    .dataframe tbody tr th {\n",
       "        vertical-align: top;\n",
       "    }\n",
       "\n",
       "    .dataframe thead th {\n",
       "        text-align: right;\n",
       "    }\n",
       "</style>\n",
       "<table border=\"1\" class=\"dataframe\">\n",
       "  <thead>\n",
       "    <tr style=\"text-align: right;\">\n",
       "      <th></th>\n",
       "      <th>V1</th>\n",
       "      <th>v2</th>\n",
       "      <th>v3</th>\n",
       "      <th>v4</th>\n",
       "      <th>V5</th>\n",
       "      <th>V6</th>\n",
       "    </tr>\n",
       "  </thead>\n",
       "  <tbody>\n",
       "    <tr>\n",
       "      <th>V1</th>\n",
       "      <td>0.149</td>\n",
       "      <td>0.057</td>\n",
       "      <td>0.057</td>\n",
       "      <td>0.057</td>\n",
       "      <td>0.014</td>\n",
       "      <td>0.005</td>\n",
       "    </tr>\n",
       "    <tr>\n",
       "      <th>v2</th>\n",
       "      <td>0.057</td>\n",
       "      <td>0.131</td>\n",
       "      <td>0.085</td>\n",
       "      <td>0.056</td>\n",
       "      <td>0.049</td>\n",
       "      <td>-0.043</td>\n",
       "    </tr>\n",
       "    <tr>\n",
       "      <th>v3</th>\n",
       "      <td>0.057</td>\n",
       "      <td>0.085</td>\n",
       "      <td>0.125</td>\n",
       "      <td>0.058</td>\n",
       "      <td>0.030</td>\n",
       "      <td>-0.024</td>\n",
       "    </tr>\n",
       "    <tr>\n",
       "      <th>v4</th>\n",
       "      <td>0.057</td>\n",
       "      <td>0.056</td>\n",
       "      <td>0.058</td>\n",
       "      <td>0.409</td>\n",
       "      <td>-0.261</td>\n",
       "      <td>-0.000</td>\n",
       "    </tr>\n",
       "    <tr>\n",
       "      <th>V5</th>\n",
       "      <td>0.014</td>\n",
       "      <td>0.049</td>\n",
       "      <td>0.030</td>\n",
       "      <td>-0.261</td>\n",
       "      <td>0.417</td>\n",
       "      <td>-0.075</td>\n",
       "    </tr>\n",
       "    <tr>\n",
       "      <th>V6</th>\n",
       "      <td>0.005</td>\n",
       "      <td>-0.043</td>\n",
       "      <td>-0.024</td>\n",
       "      <td>-0.000</td>\n",
       "      <td>-0.075</td>\n",
       "      <td>0.198</td>\n",
       "    </tr>\n",
       "  </tbody>\n",
       "</table>\n",
       "</div>"
      ],
      "text/plain": [
       "       V1     v2     v3     v4     V5     V6\n",
       "V1  0.149  0.057  0.057  0.057  0.014  0.005\n",
       "v2  0.057  0.131  0.085  0.056  0.049 -0.043\n",
       "v3  0.057  0.085  0.125  0.058  0.030 -0.024\n",
       "v4  0.057  0.056  0.058  0.409 -0.261 -0.000\n",
       "V5  0.014  0.049  0.030 -0.261  0.417 -0.075\n",
       "V6  0.005 -0.043 -0.024 -0.000 -0.075  0.198"
      ]
     },
     "execution_count": 10,
     "metadata": {},
     "output_type": "execute_result"
    }
   ],
   "source": [
    "import pandas as pd\n",
    "pd.DataFrame(covg1, columns=('V1', 'v2', 'v3', 'v4', 'V5', 'V6'), \n",
    "             index=('V1', 'v2', 'v3', 'v4', 'V5', 'V6'))"
   ]
  },
  {
   "cell_type": "code",
   "execution_count": 11,
   "metadata": {},
   "outputs": [
    {
     "data": {
      "text/html": [
       "<div>\n",
       "<style scoped>\n",
       "    .dataframe tbody tr th:only-of-type {\n",
       "        vertical-align: middle;\n",
       "    }\n",
       "\n",
       "    .dataframe tbody tr th {\n",
       "        vertical-align: top;\n",
       "    }\n",
       "\n",
       "    .dataframe thead th {\n",
       "        text-align: right;\n",
       "    }\n",
       "</style>\n",
       "<table border=\"1\" class=\"dataframe\">\n",
       "  <thead>\n",
       "    <tr style=\"text-align: right;\">\n",
       "      <th></th>\n",
       "      <th>V1</th>\n",
       "      <th>v2</th>\n",
       "      <th>v3</th>\n",
       "      <th>v4</th>\n",
       "      <th>V5</th>\n",
       "      <th>V6</th>\n",
       "    </tr>\n",
       "  </thead>\n",
       "  <tbody>\n",
       "    <tr>\n",
       "      <th>V1</th>\n",
       "      <td>0.123</td>\n",
       "      <td>0.031</td>\n",
       "      <td>0.024</td>\n",
       "      <td>-0.100</td>\n",
       "      <td>0.019</td>\n",
       "      <td>0.011</td>\n",
       "    </tr>\n",
       "    <tr>\n",
       "      <th>v2</th>\n",
       "      <td>0.031</td>\n",
       "      <td>0.064</td>\n",
       "      <td>0.046</td>\n",
       "      <td>-0.024</td>\n",
       "      <td>-0.012</td>\n",
       "      <td>-0.005</td>\n",
       "    </tr>\n",
       "    <tr>\n",
       "      <th>v3</th>\n",
       "      <td>0.024</td>\n",
       "      <td>0.046</td>\n",
       "      <td>0.088</td>\n",
       "      <td>-0.018</td>\n",
       "      <td>0.000</td>\n",
       "      <td>0.034</td>\n",
       "    </tr>\n",
       "    <tr>\n",
       "      <th>v4</th>\n",
       "      <td>-0.100</td>\n",
       "      <td>-0.024</td>\n",
       "      <td>-0.018</td>\n",
       "      <td>1.269</td>\n",
       "      <td>-0.485</td>\n",
       "      <td>0.236</td>\n",
       "    </tr>\n",
       "    <tr>\n",
       "      <th>V5</th>\n",
       "      <td>0.019</td>\n",
       "      <td>-0.012</td>\n",
       "      <td>0.000</td>\n",
       "      <td>-0.485</td>\n",
       "      <td>0.400</td>\n",
       "      <td>-0.022</td>\n",
       "    </tr>\n",
       "    <tr>\n",
       "      <th>V6</th>\n",
       "      <td>0.011</td>\n",
       "      <td>-0.005</td>\n",
       "      <td>0.034</td>\n",
       "      <td>0.236</td>\n",
       "      <td>-0.022</td>\n",
       "      <td>0.308</td>\n",
       "    </tr>\n",
       "  </tbody>\n",
       "</table>\n",
       "</div>"
      ],
      "text/plain": [
       "       V1     v2     v3     v4     V5     V6\n",
       "V1  0.123  0.031  0.024 -0.100  0.019  0.011\n",
       "v2  0.031  0.064  0.046 -0.024 -0.012 -0.005\n",
       "v3  0.024  0.046  0.088 -0.018  0.000  0.034\n",
       "v4 -0.100 -0.024 -0.018  1.269 -0.485  0.236\n",
       "V5  0.019 -0.012  0.000 -0.485  0.400 -0.022\n",
       "V6  0.011 -0.005  0.034  0.236 -0.022  0.308"
      ]
     },
     "execution_count": 11,
     "metadata": {},
     "output_type": "execute_result"
    }
   ],
   "source": [
    "pd.DataFrame(covf1, columns=('V1', 'v2', 'v3', 'v4', 'V5', 'V6'), \n",
    "             index=('V1', 'v2', 'v3', 'v4', 'V5', 'V6'))\n",
    "#v4 has negative correlation with other variables"
   ]
  },
  {
   "cell_type": "code",
   "execution_count": 12,
   "metadata": {},
   "outputs": [],
   "source": [
    "#correlation matrix for fake\n",
    "diagf = np.diag(covf1)\n",
    "l1 = np.sqrt(diagf)\n",
    "num = np.ones(6)\n",
    "d1 = np.divide(num, l1)"
   ]
  },
  {
   "cell_type": "code",
   "execution_count": 16,
   "metadata": {},
   "outputs": [],
   "source": [
    "s = np.diag(d1)\n",
    "R = np.matmul(s, covf1)\n",
    "R1 = np.matmul(R, s)\n",
    "\n",
    "pdf2 = pd.DataFrame(np.round(R1, decimals=3), columns=('V1', 'v2', 'v3', 'v4', 'V5', 'V6'),\n",
    "            index=('V1', 'v2', 'v3', 'v4', 'V5', 'V6'))\n",
    "\n",
    "st = pdf2.to_string()\n",
    "with open(\"F:/fall-21/ime692/l1/cov.txt\", \"w+\") as file:\n",
    "    file.write(st)"
   ]
  },
  {
   "cell_type": "code",
   "execution_count": 17,
   "metadata": {},
   "outputs": [],
   "source": [
    "#correlation matrix for genuine\n",
    "diag2 = np.diag(covg1)\n",
    "l2 = np.sqrt(diag2)\n",
    "num = np.ones(6)\n",
    "d2 = np.divide(num, l2)\n",
    "\n",
    "s = np.diag(d2)\n",
    "R = np.matmul(s, covg1)\n",
    "R2 = np.matmul(R, s)\n",
    "\n",
    "pdgf = pd.DataFrame(np.round(R2, decimals=3), columns=('V1', 'v2', 'v3', 'v4', 'V5', 'V6'),\n",
    "            index=('V1', 'v2', 'v3', 'v4', 'V5', 'V6'))"
   ]
  },
  {
   "cell_type": "code",
   "execution_count": 18,
   "metadata": {},
   "outputs": [],
   "source": [
    "#append result to the same file. \n",
    "st = pdgf.to_string()\n",
    "with open(\"F:/fall-21/ime692/l1/cov.txt\", \"a\") as file:\n",
    "    file.write(\"\\n\")\n",
    "    file.write(st)\n",
    "    \n",
    "#V4, V5 show different relationships"
   ]
  },
  {
   "cell_type": "code",
   "execution_count": null,
   "metadata": {},
   "outputs": [],
   "source": []
  }
 ],
 "metadata": {
  "kernelspec": {
   "display_name": "Python 3",
   "language": "python",
   "name": "python3"
  },
  "language_info": {
   "codemirror_mode": {
    "name": "ipython",
    "version": 3
   },
   "file_extension": ".py",
   "mimetype": "text/x-python",
   "name": "python",
   "nbconvert_exporter": "python",
   "pygments_lexer": "ipython3",
   "version": "3.8.3"
  }
 },
 "nbformat": 4,
 "nbformat_minor": 4
}
